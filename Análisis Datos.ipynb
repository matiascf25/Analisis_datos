{
 "cells": [
  {
   "cell_type": "code",
   "execution_count": 2,
   "id": "8b73efd0-04f7-4280-b6f2-95f09f4cbe61",
   "metadata": {},
   "outputs": [
    {
     "name": "stdout",
     "output_type": "stream",
     "text": [
      "Ruta de train: C:\\Users\\matia\\Documents\\Diplomado Machine Learning\\Actividad Análisis de Datos\\data\\train\n",
      "Ruta de test: C:\\Users\\matia\\Documents\\Diplomado Machine Learning\\Actividad Análisis de Datos\\data\\test\n"
     ]
    }
   ],
   "source": [
    "import os\n",
    "from pathlib import Path\n",
    "\n",
    "# Definir rutas usando Path\n",
    "base_dir = Path(r\"C:\\Users\\matia\\Documents\\Diplomado Machine Learning\\Actividad Análisis de Datos\\data\")\n",
    "train_dir = base_dir / \"train\"\n",
    "test_dir = base_dir / \"test\"\n",
    "\n",
    "print(\"Ruta de train:\", train_dir)\n",
    "print(\"Ruta de test:\", test_dir)\n"
   ]
  },
  {
   "cell_type": "code",
   "execution_count": null,
   "id": "44918379-07f9-4569-b19a-b05c0cfac1b6",
   "metadata": {},
   "outputs": [],
   "source": []
  }
 ],
 "metadata": {
  "kernelspec": {
   "display_name": "Python 3 (ipykernel)",
   "language": "python",
   "name": "python3"
  },
  "language_info": {
   "codemirror_mode": {
    "name": "ipython",
    "version": 3
   },
   "file_extension": ".py",
   "mimetype": "text/x-python",
   "name": "python",
   "nbconvert_exporter": "python",
   "pygments_lexer": "ipython3",
   "version": "3.13.5"
  }
 },
 "nbformat": 4,
 "nbformat_minor": 5
}
